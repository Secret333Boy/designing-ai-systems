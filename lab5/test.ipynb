{
 "cells": [
  {
   "cell_type": "code",
   "execution_count": 35,
   "id": "8f27396c",
   "metadata": {},
   "outputs": [],
   "source": [
    "import keras\n",
    "\n",
    "model = keras.models.load_model(\"./model.keras\")\n"
   ]
  },
  {
   "cell_type": "code",
   "execution_count": 36,
   "id": "11c08828",
   "metadata": {},
   "outputs": [
    {
     "name": "stdout",
     "output_type": "stream",
     "text": [
      "\u001b[1m1/1\u001b[0m \u001b[32m━━━━━━━━━━━━━━━━━━━━\u001b[0m\u001b[37m\u001b[0m \u001b[1m2s\u001b[0m 2s/step\n"
     ]
    },
    {
     "data": {
      "text/plain": [
       "array([[1.],\n",
       "       [0.]], dtype=float32)"
      ]
     },
     "execution_count": 36,
     "metadata": {},
     "output_type": "execute_result"
    }
   ],
   "source": [
    "from PIL import Image\n",
    "import numpy as np\n",
    "\n",
    "\n",
    "imgs = []\n",
    "\n",
    "trueImg = np.array(Image.open(\"./test/true.jpg\").resize((299, 299), resample=Image.Resampling.LANCZOS))\n",
    "falseImg = np.array(Image.open(\"./test/false.jpg\").resize((299, 299), resample=Image.Resampling.LANCZOS))\n",
    "\n",
    "imgs.append(trueImg)\n",
    "imgs.append(falseImg)\n",
    "\n",
    "imgs = np.array(imgs)\n",
    "\n",
    "np.array(model.predict(imgs)).round()\n"
   ]
  }
 ],
 "metadata": {
  "kernelspec": {
   "display_name": "Python 3",
   "language": "python",
   "name": "python3"
  },
  "language_info": {
   "codemirror_mode": {
    "name": "ipython",
    "version": 3
   },
   "file_extension": ".py",
   "mimetype": "text/x-python",
   "name": "python",
   "nbconvert_exporter": "python",
   "pygments_lexer": "ipython3",
   "version": "3.10.12"
  }
 },
 "nbformat": 4,
 "nbformat_minor": 5
}
