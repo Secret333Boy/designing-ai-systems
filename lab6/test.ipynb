{
 "cells": [
  {
   "cell_type": "code",
   "execution_count": 10,
   "id": "675dd62e",
   "metadata": {},
   "outputs": [],
   "source": [
    "import cv2\n",
    "from keras import models\n",
    "from PIL import Image\n",
    "import numpy as np\n",
    "\n",
    "model = models.load_model(\"./model.keras\")\n",
    "\n",
    "video_path = \"./dataset/Toyota підкорила серце персидського котика.mp4\"\n",
    "\n",
    "capture = cv2.VideoCapture(video_path)\n",
    "\n",
    "fps = capture.get(cv2.CAP_PROP_FPS)\n",
    "width = int(capture.get(cv2.CAP_PROP_FRAME_WIDTH))\n",
    "height = int(capture.get(cv2.CAP_PROP_FRAME_HEIGHT))\n",
    "\n",
    "frames = []\n",
    "while (capture.isOpened()):\n",
    "  has_more, frame = capture.read()\n",
    "  if not has_more:\n",
    "    break\n",
    "  \n",
    "  resized_frame = np.array(Image.fromarray(frame).resize((299, 299), resample=Image.Resampling.LANCZOS))\n",
    "  \n",
    "  frames.append(resized_frame)\n",
    "  \n",
    "  if (cv2.waitKey(1) & 0xFF == ord(\"q\")):\n",
    "    break\n",
    "  \n",
    "capture.release()\n",
    "cv2.destroyAllWindows()"
   ]
  },
  {
   "cell_type": "code",
   "execution_count": 11,
   "id": "a3b1c44f",
   "metadata": {},
   "outputs": [
    {
     "name": "stdout",
     "output_type": "stream",
     "text": [
      "\u001b[1m70/71\u001b[0m \u001b[32m━━━━━━━━━━━━━━━━━━━\u001b[0m\u001b[37m━\u001b[0m \u001b[1m0s\u001b[0m 53ms/step"
     ]
    },
    {
     "name": "stderr",
     "output_type": "stream",
     "text": [
      "2025-05-05 19:38:12.271858: I external/local_xla/xla/stream_executor/cuda/cuda_asm_compiler.cc:397] ptxas warning : Registers are spilled to local memory in function 'gemm_fusion_dot_1169_0', 220 bytes spill stores, 220 bytes spill loads\n",
      "\n"
     ]
    },
    {
     "name": "stdout",
     "output_type": "stream",
     "text": [
      "\u001b[1m71/71\u001b[0m \u001b[32m━━━━━━━━━━━━━━━━━━━━\u001b[0m\u001b[37m\u001b[0m \u001b[1m10s\u001b[0m 114ms/step\n"
     ]
    }
   ],
   "source": [
    "predictions = model.predict(np.array(frames))"
   ]
  },
  {
   "cell_type": "code",
   "execution_count": 14,
   "id": "42f6753c",
   "metadata": {},
   "outputs": [
    {
     "data": {
      "text/plain": [
       "28"
      ]
     },
     "execution_count": 14,
     "metadata": {},
     "output_type": "execute_result"
    }
   ],
   "source": [
    "frameIndex = list(np.array(predictions).flatten().round()).index(1)\n",
    "frameIndex"
   ]
  },
  {
   "cell_type": "code",
   "execution_count": 15,
   "id": "b2a0c48c",
   "metadata": {},
   "outputs": [
    {
     "data": {
      "text/plain": [
       "1.12"
      ]
     },
     "execution_count": 15,
     "metadata": {},
     "output_type": "execute_result"
    }
   ],
   "source": [
    "seconds_from_beginning = frameIndex / fps\n",
    "seconds_from_beginning"
   ]
  }
 ],
 "metadata": {
  "kernelspec": {
   "display_name": "Python 3",
   "language": "python",
   "name": "python3"
  },
  "language_info": {
   "codemirror_mode": {
    "name": "ipython",
    "version": 3
   },
   "file_extension": ".py",
   "mimetype": "text/x-python",
   "name": "python",
   "nbconvert_exporter": "python",
   "pygments_lexer": "ipython3",
   "version": "3.10.12"
  }
 },
 "nbformat": 4,
 "nbformat_minor": 5
}
